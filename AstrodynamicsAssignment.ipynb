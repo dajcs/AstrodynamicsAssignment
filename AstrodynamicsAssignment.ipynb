{
 "cells": [
  {
   "cell_type": "markdown",
   "id": "ce75c441",
   "metadata": {},
   "source": [
    "<p style='font-size: 16pt; text-align: center'> SPACE MISSION AND SPACECRAFT SUBSYSTEM ENGINEERING<br>ISM Semester – 1 (Sep 2022 – Jan 23)</p>\n",
    "\n",
    "<p style='text-align: center;'>Attila Nemet<br>\n",
    "2022-12-23</p>\n",
    "<br>\n"
   ]
  },
  {
   "cell_type": "markdown",
   "id": "1949e812",
   "metadata": {},
   "source": [
    "# Final Project"
   ]
  },
  {
   "cell_type": "markdown",
   "id": "1ca392af",
   "metadata": {},
   "source": [
    "## Part-2 Astrodynamics"
   ]
  },
  {
   "cell_type": "markdown",
   "id": "01e826ef",
   "metadata": {},
   "source": [
    "## 1. Mars Mission\n",
    "\n",
    "Designing a crewed Mars mission, based on chemical or nuclear thermal propulsion.\n",
    "* calculating delta-V for a Mars mission\n",
    "* Estimating the mass required for such a mission"
   ]
  },
  {
   "cell_type": "markdown",
   "id": "45e022c5",
   "metadata": {},
   "source": [
    "### 1.1 Hohmann Transfer - Simplified\n",
    "\n",
    "We are going to do a first approximation considering the following simplifications:\n",
    "- the Earth and Mars are on circular orbits with the Sun in the center\n",
    "- the Earth and Mars are orbiting in the same elliptic plane"
   ]
  },
  {
   "cell_type": "code",
   "execution_count": 110,
   "id": "80de024c",
   "metadata": {},
   "outputs": [
    {
     "data": {
      "text/plain": [
       "1.262"
      ]
     },
     "execution_count": 110,
     "metadata": {},
     "output_type": "execute_result"
    }
   ],
   "source": [
    "r1 = 1     # AU  - Earth distance from Sun\n",
    "r2 = 1.524 # AU  - Mars distance from Sun\n",
    "a = (r1+r2)/2  # AU\n",
    "a    # AU"
   ]
  },
  {
   "cell_type": "code",
   "execution_count": 111,
   "id": "fe1e36d4",
   "metadata": {},
   "outputs": [
    {
     "data": {
      "text/plain": [
       "1.417715319801546"
      ]
     },
     "execution_count": 111,
     "metadata": {},
     "output_type": "execute_result"
    }
   ],
   "source": [
    "T = (a**3)**0.5  # period of the transfer ellipse\n",
    "T # years"
   ]
  },
  {
   "cell_type": "code",
   "execution_count": 112,
   "id": "ab2ed528",
   "metadata": {},
   "outputs": [
    {
     "data": {
      "text/plain": [
       "(0.708857659900773, 258.73304586378214)"
      ]
     },
     "execution_count": 112,
     "metadata": {},
     "output_type": "execute_result"
    }
   ],
   "source": [
    "t = T/2 # trip to Mars half of T period\n",
    "t , t*365   # years, days"
   ]
  },
  {
   "cell_type": "markdown",
   "id": "b05da7d1",
   "metadata": {},
   "source": [
    " <center><img src=\"./img/Earth_Mars_Hohmann_Transfer.png\" style=\"width: 550px; height: 500px;\"></center>"
   ]
  },
  {
   "cell_type": "code",
   "execution_count": 113,
   "id": "e532edce",
   "metadata": {},
   "outputs": [],
   "source": [
    "G = 6.674e-11        # m3/kg/s2\n",
    "m_Sun = 1.9885e30    # kg\n",
    "m_Earth = 5.97217e24 # kg\n",
    "m_Mars = 6.4171e23 # kg\n",
    "\n",
    "mu_Sun = G * m_Sun          # m3/s2\n",
    "mu_Earth = G * m_Earth      # m3/s2\n",
    "mu_Mars = G * m_Mars        # m3/s2\n",
    "\n",
    "M = m_Sun\n",
    "m1 = m_Earth\n",
    "m2 = m_Mars\n",
    "\n",
    "Mu = mu_Sun\n",
    "mu1 = mu_Earth\n",
    "mu2 = mu_Mars\n",
    "\n"
   ]
  },
  {
   "cell_type": "code",
   "execution_count": 114,
   "id": "d718b88b",
   "metadata": {},
   "outputs": [],
   "source": [
    "r1 = 149598023e3 # [m] Earth semi-major axis\n",
    "r2 = 227939366e3 # [m]  Mars semi-major axis\n",
    "\n",
    "a = (r1 + r2) / 2   # [m] semi-major axis of Elliptic Transfer orbit\n"
   ]
  },
  {
   "cell_type": "code",
   "execution_count": 115,
   "id": "81282117",
   "metadata": {},
   "outputs": [
    {
     "data": {
      "text/plain": [
       "(32.729370588336494, 21.48048939492745)"
      ]
     },
     "execution_count": 115,
     "metadata": {},
     "output_type": "execute_result"
    }
   ],
   "source": [
    "# vp,va from vis-viva\n",
    "\n",
    "vp = (Mu*(2/r1 - 1/a))**0.5\n",
    "vp = vp/1e3\n",
    "\n",
    "va = (Mu*(2/r2 - 1/a))**0.5\n",
    "va = va/1e3\n",
    "\n",
    "vp,va      # km/s"
   ]
  },
  {
   "cell_type": "code",
   "execution_count": 116,
   "id": "5a53c6cf",
   "metadata": {},
   "outputs": [
    {
     "data": {
      "text/plain": [
       "(29.784682279101773, 24.129383772394636)"
      ]
     },
     "execution_count": 116,
     "metadata": {},
     "output_type": "execute_result"
    }
   ],
   "source": [
    "# v1,v2 from vis-viva\n",
    "\n",
    "v1 = (Mu/r1)**0.5\n",
    "v1 = v1/1e3\n",
    "v2 = (Mu/r2)**0.5\n",
    "v2 = v2/1e3\n",
    "\n",
    "v1, v2          # km/s"
   ]
  },
  {
   "cell_type": "code",
   "execution_count": 117,
   "id": "5a683cd3",
   "metadata": {},
   "outputs": [
    {
     "data": {
      "text/plain": [
       "(2.9446883092347207, 2.6488943774671867)"
      ]
     },
     "execution_count": 117,
     "metadata": {},
     "output_type": "execute_result"
    }
   ],
   "source": [
    "delta_v1 = vp - v1\n",
    "delta_v2 = v2 - va\n",
    "\n",
    "delta_v1, delta_v2    # km/s"
   ]
  },
  {
   "cell_type": "code",
   "execution_count": 118,
   "id": "990186a9",
   "metadata": {},
   "outputs": [
    {
     "data": {
      "text/plain": [
       "(924.6310655723548, 577.2243198669827)"
      ]
     },
     "execution_count": 118,
     "metadata": {},
     "output_type": "execute_result"
    }
   ],
   "source": [
    "# Sphere of influence\n",
    "\n",
    "s1 = r1*(m1/M)**0.4\n",
    "soi1 = s1/1e6             # [thousand km]\n",
    "s2 = r2*(m2/M)**0.4\n",
    "soi2 = s2/1e6             # [thousand km]\n",
    "soi1, soi2"
   ]
  },
  {
   "cell_type": "code",
   "execution_count": 119,
   "id": "57e142f4",
   "metadata": {},
   "outputs": [
    {
     "data": {
      "text/plain": [
       "(3.6342550790734443, 2.5221228495662222)"
      ]
     },
     "execution_count": 119,
     "metadata": {},
     "output_type": "execute_result"
    }
   ],
   "source": [
    "delta_t_soi1 = s1/1000 / delta_v1        # [s]\n",
    "delta_t_soi2 = s2/1000 / delta_v2        # [s]\n",
    "delta_t_soi1/3600/24, delta_t_soi2/3600/24     # days"
   ]
  },
  {
   "cell_type": "markdown",
   "id": "f0d9c276",
   "metadata": {},
   "source": [
    "# 1.2 Patched Conics"
   ]
  },
  {
   "cell_type": "markdown",
   "id": "9cddf99e",
   "metadata": {},
   "source": [
    "## 1.2.1 Hyperbolic planetary departure"
   ]
  },
  {
   "cell_type": "markdown",
   "id": "55dea80f",
   "metadata": {},
   "source": [
    " <center><img src=\"./img/hyperbolic_planetary_departure.png\" style=\"width: 500px; height: 540px;\"></center>"
   ]
  },
  {
   "cell_type": "code",
   "execution_count": 120,
   "id": "6dcd1c7f",
   "metadata": {},
   "outputs": [
    {
     "data": {
      "text/plain": [
       "-51.04114787289372"
      ]
     },
     "execution_count": 120,
     "metadata": {},
     "output_type": "execute_result"
    }
   ],
   "source": [
    "# patched conics\n",
    "# semi-major axis of the exit hyperbola\n",
    "a1hyp = 1 / (2/s1 - (delta_v1*1000)**2/mu1)\n",
    "a1hyp / 1e6                     # thousand km"
   ]
  },
  {
   "cell_type": "code",
   "execution_count": 121,
   "id": "f5cd8236",
   "metadata": {},
   "outputs": [
    {
     "data": {
      "text/plain": [
       "11.127796559942388"
      ]
     },
     "execution_count": 121,
     "metadata": {},
     "output_type": "execute_result"
    }
   ],
   "source": [
    "r1p = (6371 + 500) * 1000    # radius of the parking orbit - 500 km height LEO\n",
    "vp1hyp = (mu1 * (2/r1p - 1/a1hyp))**0.5\n",
    "vp1hyp / 1000    # km/s"
   ]
  },
  {
   "cell_type": "code",
   "execution_count": 122,
   "id": "cb42b463",
   "metadata": {},
   "outputs": [
    {
     "data": {
      "text/plain": [
       "3.5114059719600363"
      ]
     },
     "execution_count": 122,
     "metadata": {},
     "output_type": "execute_result"
    }
   ],
   "source": [
    "delta_v1hyp = vp1hyp - (mu1/r1p)**0.5\n",
    "delta_v1hyp / 1000    # km/s"
   ]
  },
  {
   "cell_type": "code",
   "execution_count": 123,
   "id": "2218df12",
   "metadata": {},
   "outputs": [],
   "source": [
    "from math import acos, pi, asin, cos, sin"
   ]
  },
  {
   "cell_type": "code",
   "execution_count": 124,
   "id": "90ccf678",
   "metadata": {},
   "outputs": [
    {
     "data": {
      "text/plain": [
       "29.546086291229397"
      ]
     },
     "execution_count": 124,
     "metadata": {},
     "output_type": "execute_result"
    }
   ],
   "source": [
    "beta1 = acos(1/(1 + r1p*(delta_v1*1000)**2/mu1))\n",
    "beta1 * 180 / pi   # degrees"
   ]
  },
  {
   "cell_type": "markdown",
   "id": "c4b6636d",
   "metadata": {},
   "source": [
    "## 1.2.3 Hyperbolic planetary arrival\n"
   ]
  },
  {
   "cell_type": "markdown",
   "id": "3664ace3",
   "metadata": {},
   "source": [
    " <center><img src=\"./img/hyperbolic_planetary_arrival.png\" style=\"width: 577px; height: 500px;\"></center>"
   ]
  },
  {
   "cell_type": "code",
   "execution_count": 125,
   "id": "4008c399",
   "metadata": {},
   "outputs": [
    {
     "data": {
      "text/plain": [
       "-6.235610057426045"
      ]
     },
     "execution_count": 125,
     "metadata": {},
     "output_type": "execute_result"
    }
   ],
   "source": [
    "# patched conics\n",
    "# semi-major axis of the arrival hyperbola\n",
    "a2hyp = 1 / (2/s2 - (delta_v2*1000)**2/mu2)\n",
    "a2hyp / 1e6                     # thousand km"
   ]
  },
  {
   "cell_type": "code",
   "execution_count": 126,
   "id": "f431c2bf",
   "metadata": {},
   "outputs": [
    {
     "data": {
      "text/plain": [
       "5.543257752062432"
      ]
     },
     "execution_count": 126,
     "metadata": {},
     "output_type": "execute_result"
    }
   ],
   "source": [
    "r2p = (3390 + 200)*1000     # radius of the parking orbit - 200 km height LMO - Low Mars Orbit\n",
    "vp2hyp = (mu2 * (2/r2p - 1/a2hyp))**0.5\n",
    "vp2hyp / 1000    # km/s"
   ]
  },
  {
   "cell_type": "code",
   "execution_count": 127,
   "id": "48f81def",
   "metadata": {},
   "outputs": [
    {
     "data": {
      "text/plain": [
       "2.089313843473748"
      ]
     },
     "execution_count": 127,
     "metadata": {},
     "output_type": "execute_result"
    }
   ],
   "source": [
    "delta_v2hyp = vp2hyp - (mu2/r2p)**0.5\n",
    "delta_v2hyp / 1000    # km/s"
   ]
  },
  {
   "cell_type": "code",
   "execution_count": 128,
   "id": "94c76238",
   "metadata": {},
   "outputs": [
    {
     "data": {
      "text/plain": [
       "50.97512411098353"
      ]
     },
     "execution_count": 128,
     "metadata": {},
     "output_type": "execute_result"
    }
   ],
   "source": [
    "beta2 = acos(1/(1 + r2p*(delta_v2*1000)**2/mu2))\n",
    "beta2 * 180 / pi   # degrees"
   ]
  },
  {
   "cell_type": "code",
   "execution_count": 129,
   "id": "f60d750c",
   "metadata": {},
   "outputs": [
    {
     "data": {
      "text/plain": [
       "1.5881643835441333"
      ]
     },
     "execution_count": 129,
     "metadata": {},
     "output_type": "execute_result"
    }
   ],
   "source": [
    "# eccentricity\n",
    "ecc = 1 + r2p*(delta_v2*1000)**2/mu2\n",
    "ecc"
   ]
  },
  {
   "cell_type": "code",
   "execution_count": 130,
   "id": "aed1a9c6",
   "metadata": {},
   "outputs": [
    {
     "data": {
      "text/plain": [
       "78.04975177803296"
      ]
     },
     "execution_count": 130,
     "metadata": {},
     "output_type": "execute_result"
    }
   ],
   "source": [
    "# angle delta\n",
    "\n",
    "𝛿 = 2 * asin(1/ecc)\n",
    "\n",
    "𝛿 / pi * 180  # degrees"
   ]
  },
  {
   "cell_type": "code",
   "execution_count": 131,
   "id": "55e6de3b",
   "metadata": {},
   "outputs": [
    {
     "data": {
      "text/plain": [
       "3.141592653589793"
      ]
     },
     "execution_count": 131,
     "metadata": {},
     "output_type": "execute_result"
    }
   ],
   "source": [
    "# double check 𝛿 + 2*beta2 == pi\n",
    "𝛿 + 2*beta2"
   ]
  },
  {
   "cell_type": "code",
   "execution_count": 132,
   "id": "dbe3f35f",
   "metadata": {},
   "outputs": [
    {
     "data": {
      "text/plain": [
       "7530.798297236852"
      ]
     },
     "execution_count": 132,
     "metadata": {},
     "output_type": "execute_result"
    }
   ],
   "source": [
    "# distance 𝛥 between Mars trajectory and elliptic transfer orbit:\n",
    "\n",
    "𝛥 = r2p * (1 + 2*mu2 / r2p / (delta_v2*1000)**2 )**0.5\n",
    "𝛥 / 1000  # km"
   ]
  },
  {
   "cell_type": "code",
   "execution_count": 133,
   "id": "04eed206",
   "metadata": {},
   "outputs": [
    {
     "data": {
      "text/plain": [
       "7.616390587982352"
      ]
     },
     "execution_count": 133,
     "metadata": {},
     "output_type": "execute_result"
    }
   ],
   "source": [
    "# LEO speed at 500 km height\n",
    "\n",
    "v_LEO_500 = (mu1/r1p)**0.5\n",
    "v_LEO_500/1000    # circular orbit speed - [km/s]"
   ]
  },
  {
   "cell_type": "code",
   "execution_count": 134,
   "id": "b981eeaa",
   "metadata": {},
   "outputs": [
    {
     "data": {
      "text/plain": [
       "3.453943908588685"
      ]
     },
     "execution_count": 134,
     "metadata": {},
     "output_type": "execute_result"
    }
   ],
   "source": [
    "# LMO speed at 200 km height\n",
    "\n",
    "v_LMO_200 = (mu2/r2p)**0.5\n",
    "v_LMO_200/1000    # circular orbit speed - [km/s]"
   ]
  },
  {
   "cell_type": "markdown",
   "id": "5ae2f370",
   "metadata": {},
   "source": [
    "#### Total Delta-V"
   ]
  },
  {
   "cell_type": "code",
   "execution_count": 135,
   "id": "a2a21531",
   "metadata": {},
   "outputs": [
    {
     "data": {
      "text/plain": [
       "18.600719815433784"
      ]
     },
     "execution_count": 135,
     "metadata": {},
     "output_type": "execute_result"
    }
   ],
   "source": [
    "# delta-v Earth-Mars-Transfer\n",
    "delta_v_LEO = 9.4  # km/s\n",
    "delta_v_LMO = 3.6  # km/s\n",
    "delta_v_EMT = delta_v_LEO + delta_v1hyp/1000 + delta_v2hyp/1000 + delta_v_LMO\n",
    "delta_v_EMT     # km/s"
   ]
  },
  {
   "cell_type": "markdown",
   "id": "944e3f62",
   "metadata": {},
   "source": [
    "# 1.3 Starship"
   ]
  },
  {
   "cell_type": "code",
   "execution_count": 136,
   "id": "246b0396",
   "metadata": {},
   "outputs": [
    {
     "data": {
      "text/plain": [
       "7.253963853648397"
      ]
     },
     "execution_count": 136,
     "metadata": {},
     "output_type": "execute_result"
    }
   ],
   "source": [
    "from math import log\n",
    "ln = log\n",
    "Isp = 380 # s\n",
    "g = 9.81  # m/s2\n",
    "\n",
    "v_e = g * Isp / 1000   # km/s\n",
    "\n",
    "# Starship delta-v - payload = 100 tons\n",
    "m_dry = 100  # tons\n",
    "m_payload = 100  # tons\n",
    "m_prop = 1200 # tons\n",
    "\n",
    "def starship_delta_v(m_payload=100, m_prop=1200, m_dry=100):\n",
    "    mi = m_dry + m_payload + m_prop\n",
    "    mf = m_dry + m_payload\n",
    "    delta_v_Starship = v_e * ln(mi/mf)\n",
    "    return delta_v_Starship  # km/s\n",
    "\n",
    "starship_delta_v()    # km/s"
   ]
  },
  {
   "cell_type": "code",
   "execution_count": 137,
   "id": "4b66a6a6",
   "metadata": {},
   "outputs": [
    {
     "data": {
      "text/plain": [
       "9.234886583491487"
      ]
     },
     "execution_count": 137,
     "metadata": {},
     "output_type": "execute_result"
    }
   ],
   "source": [
    "# Starship delta-v - payload = 10 tons\n",
    "\n",
    "starship_delta_v(m_payload=10)   # km/s"
   ]
  },
  {
   "cell_type": "code",
   "execution_count": 138,
   "id": "01f59345",
   "metadata": {},
   "outputs": [
    {
     "data": {
      "text/plain": [
       "8.19081377939396"
      ]
     },
     "execution_count": 138,
     "metadata": {},
     "output_type": "execute_result"
    }
   ],
   "source": [
    "starship_delta_v(m_payload=50)   # km/s"
   ]
  },
  {
   "cell_type": "code",
   "execution_count": 139,
   "id": "39bac1cd",
   "metadata": {},
   "outputs": [
    {
     "data": {
      "text/plain": [
       "9.200719815433784"
      ]
     },
     "execution_count": 139,
     "metadata": {},
     "output_type": "execute_result"
    }
   ],
   "source": [
    "# delta-v from LEO to landing on Mars\n",
    "(delta_v1hyp + delta_v2hyp)/1000 + delta_v_LMO   # km/s"
   ]
  },
  {
   "cell_type": "markdown",
   "id": "cb42c7d9",
   "metadata": {},
   "source": [
    "# 1.4 Aerobraking"
   ]
  },
  {
   "cell_type": "markdown",
   "id": "15a0927a",
   "metadata": {},
   "source": [
    " <center><img src=\"./img/spaceX_Starship_dissect.png\" style=\"width: 500px; height: 708px;\" ></center>"
   ]
  },
  {
   "cell_type": "code",
   "execution_count": 140,
   "id": "40adafad",
   "metadata": {},
   "outputs": [
    {
     "data": {
      "text/plain": [
       "(16.61296, 5.5450800000000005, 22.15804)"
      ]
     },
     "execution_count": 140,
     "metadata": {},
     "output_type": "execute_result"
    }
   ],
   "source": [
    "# delta-v of Starship when landing on Earth with aerobraking\n",
    "\n",
    "V_LOX_header = 14.56  # m3\n",
    "V_CH4_header = 13.14  # m3 \n",
    "\n",
    "rho_LOX = 1.141 # kg/m3\n",
    "rho_CH4 = 0.422 # kg/m3\n",
    "\n",
    "m_LOX_header = V_LOX_header * rho_LOX\n",
    "m_CH4_header = V_CH4_header * rho_CH4\n",
    "\n",
    "m_prop_landing = m_LOX_header + m_CH4_header\n",
    "\n",
    "m_LOX_header, m_CH4_header, m_prop_landing  # tons"
   ]
  },
  {
   "cell_type": "code",
   "execution_count": 141,
   "id": "5d3dfcef",
   "metadata": {},
   "outputs": [
    {
     "data": {
      "text/plain": [
       "0.7461021349299718"
      ]
     },
     "execution_count": 141,
     "metadata": {},
     "output_type": "execute_result"
    }
   ],
   "source": [
    "starship_delta_v(m_payload=0, m_prop = m_prop_landing)   # km/s"
   ]
  },
  {
   "cell_type": "code",
   "execution_count": 142,
   "id": "8eb775db",
   "metadata": {},
   "outputs": [
    {
     "data": {
      "text/plain": [
       "1072.9125"
      ]
     },
     "execution_count": 142,
     "metadata": {},
     "output_type": "execute_result"
    }
   ],
   "source": [
    "# Drag Force on Earth\n",
    "\n",
    "rho_Earth = 1.2\n",
    "v_t_Earth = 85\n",
    "C_D = 0.55\n",
    "A = 450\n",
    "\n",
    "F_D_Earth = 1/2*rho_Earth * v_t_Earth**2 * C_D * A\n",
    "\n",
    "F_D_Earth / 1000  # kN"
   ]
  },
  {
   "cell_type": "code",
   "execution_count": 143,
   "id": "716a4093",
   "metadata": {},
   "outputs": [
    {
     "data": {
      "text/plain": [
       "(12.91199456337071, 2943.9347604485224)"
      ]
     },
     "execution_count": 143,
     "metadata": {},
     "output_type": "execute_result"
    }
   ],
   "source": [
    "# stopping from v_LEO to 0 with acceleration g\n",
    "v_LEO = 7.6    # km/s\n",
    "t = v_LEO * 1000 / g\n",
    "s = g * t**2 / 2\n",
    "t / 60,   s / 1000   # minutes, km"
   ]
  },
  {
   "cell_type": "code",
   "execution_count": 144,
   "id": "c523cb0b",
   "metadata": {},
   "outputs": [
    {
     "data": {
      "text/plain": [
       "636.3961030678928"
      ]
     },
     "execution_count": 144,
     "metadata": {},
     "output_type": "execute_result"
    }
   ],
   "source": [
    "# Drag Force on Mars\n",
    "\n",
    "rho_Mars = 0.02\n",
    "v_t_Mars = 450 * 2**0.5\n",
    "C_D = 0.55\n",
    "A = 450\n",
    "\n",
    "F_D_Mars = 1/2*rho_Mars * v_t_Mars**2 * C_D * A\n",
    "\n",
    "F_D_Mars / 1000  # kN\n",
    "v_t_Mars"
   ]
  },
  {
   "cell_type": "code",
   "execution_count": 145,
   "id": "12d8c48b",
   "metadata": {},
   "outputs": [
    {
     "data": {
      "text/plain": [
       "(24.783418960523775, 10845.858890173777)"
      ]
     },
     "execution_count": 145,
     "metadata": {},
     "output_type": "execute_result"
    }
   ],
   "source": [
    "# stopping from vp2hyp to 0 with acceleration 0.38 g\n",
    "vp2hyp  # 5.543 km/s\n",
    "t = vp2hyp / (0.38*g)\n",
    "s = g * t**2 / 2\n",
    "t/60, s/1000   # minutes, km"
   ]
  },
  {
   "cell_type": "markdown",
   "id": "b91eb8ac",
   "metadata": {},
   "source": [
    "# 1.5 Astronaut Needs"
   ]
  },
  {
   "cell_type": "code",
   "execution_count": 146,
   "id": "d4a56adb",
   "metadata": {},
   "outputs": [
    {
     "data": {
      "text/plain": [
       "1400"
      ]
     },
     "execution_count": 146,
     "metadata": {},
     "output_type": "execute_result"
    }
   ],
   "source": [
    "# astronaut mass budget for Earth-Mars transfer\n",
    "daily_consumption = 5 # kg/day (2 kg food + 3 liter water/beverage)\n",
    "m_astronaut = 100 # mass of an astronaut\n",
    "t = 260  # days - Earth-Mars trip time\n",
    "astronaut_mass_budget = t * daily_consumption + m_astronaut\n",
    "astronaut_mass_budget   # kg"
   ]
  },
  {
   "cell_type": "markdown",
   "id": "4e29e66c",
   "metadata": {},
   "source": [
    "## 1.6 Nuclear Propulsion"
   ]
  },
  {
   "cell_type": "code",
   "execution_count": 147,
   "id": "d4013fb7",
   "metadata": {},
   "outputs": [
    {
     "data": {
      "text/plain": [
       "18.894644157508576"
      ]
     },
     "execution_count": 147,
     "metadata": {},
     "output_type": "execute_result"
    }
   ],
   "source": [
    "# NTP delta-v  -- Nuclear Thermal Propulsion\n",
    "g = 9.81  # gravitational acceleration\n",
    "Isp = 900 # specific impulse\n",
    "v_e = g * Isp / 1000   # exhaust velocity km/s\n",
    "m_dry = 100  # tone\n",
    "m_payload = 60  # tone\n",
    "m_prop = 1200 # tone\n",
    "mi = m_dry + m_payload + m_prop\n",
    "mf = m_dry + m_payload\n",
    "delta_v_NTP = v_e * ln(mi/mf)\n",
    "delta_v_NTP  # km/s"
   ]
  },
  {
   "cell_type": "code",
   "execution_count": 148,
   "id": "6ed11371",
   "metadata": {},
   "outputs": [
    {
     "data": {
      "text/plain": [
       "16901.408450704224"
      ]
     },
     "execution_count": 148,
     "metadata": {},
     "output_type": "execute_result"
    }
   ],
   "source": [
    "# volume of LH2 for NTP\n",
    "LH2_density = 71 # kg/m3\n",
    "volume_LH2 = m_prop*1000 / LH2_density  # m3\n",
    "volume_LH2  # m3"
   ]
  },
  {
   "cell_type": "code",
   "execution_count": 149,
   "id": "d2434654",
   "metadata": {},
   "outputs": [
    {
     "data": {
      "text/plain": [
       "95.64240711625635"
      ]
     },
     "execution_count": 149,
     "metadata": {},
     "output_type": "execute_result"
    }
   ],
   "source": [
    "# LH2 storage dimensions for NTP\n",
    "diameter = 15\n",
    "height = volume_LH2 / ((diameter/2)**2 * pi)\n",
    "height # m\n"
   ]
  },
  {
   "cell_type": "markdown",
   "id": "47223303",
   "metadata": {},
   "source": [
    "## References"
   ]
  },
  {
   "cell_type": "markdown",
   "id": "cb1b0749",
   "metadata": {},
   "source": [
    "Martian Colonist: The Hohmann Transfer\n",
    "\n",
    "https://www.youtube.com/watch?v=LzsMjEMDpD4\n"
   ]
  },
  {
   "cell_type": "markdown",
   "id": "2ea82259",
   "metadata": {},
   "source": [
    "https://ai-solutions.com/_freeflyeruniversityguide/patched_conics_transfer.htm"
   ]
  },
  {
   "cell_type": "markdown",
   "id": "c5207a6d",
   "metadata": {},
   "source": [
    "https://www.sciencedirect.com/topics/engineering/capture-orbit"
   ]
  },
  {
   "cell_type": "markdown",
   "id": "938586c9",
   "metadata": {},
   "source": [
    "Subject Zero Science: What it takes to go to Mars\n",
    "\n",
    "https://www.youtube.com/watch?v=6-3IHfmwLJs"
   ]
  },
  {
   "cell_type": "code",
   "execution_count": null,
   "id": "3cdf4745",
   "metadata": {},
   "outputs": [],
   "source": []
  },
  {
   "cell_type": "markdown",
   "id": "8837726b",
   "metadata": {},
   "source": [
    "# 2. Advanced - Trajectory design for an interstellar object: 1I/‘Oumuamua"
   ]
  },
  {
   "cell_type": "markdown",
   "id": "496057da",
   "metadata": {},
   "source": [
    "1I/’Oumuamua is the first interstellar object which was discovered in our solar system in 2017. The object is currently flying out of the solar system. What DeltaV would you need for a mission to ‘Oumuamua (without any flybys)? Do you think such a mission is feasible?\n"
   ]
  },
  {
   "cell_type": "code",
   "execution_count": 150,
   "id": "e566f7ec",
   "metadata": {},
   "outputs": [
    {
     "data": {
      "text/plain": [
       "(0.255916, -1.2723, 1.5881643835441333)"
      ]
     },
     "execution_count": 150,
     "metadata": {},
     "output_type": "execute_result"
    }
   ],
   "source": [
    "p_au = 0.255916 # perihelion in AU\n",
    "au = 1.496e+11  # 1 AU in meter\n",
    "p = p_au * au   # perihelion in meter\n",
    "a_au = -1.2723  # semimajor axis in AU\n",
    "a = a_au * au   # semimajor axis in meter\n",
    "e = 1.20113     # eccentricity\n",
    "v_inf = 26.33   # km/s\n",
    "i = 122.74      # orbit inclination - degrees\n",
    "LAAN = 24.597   # Longitude of Ascending Node - degrees\n",
    "omega = 241.811 # Argument of perihelion - degrees\n",
    "p_au, a_au, ecc"
   ]
  },
  {
   "cell_type": "code",
   "execution_count": 151,
   "id": "da1fdb07",
   "metadata": {},
   "outputs": [
    {
     "data": {
      "text/plain": [
       "0.25589769900000003"
      ]
     },
     "execution_count": 151,
     "metadata": {},
     "output_type": "execute_result"
    }
   ],
   "source": [
    "# double check rp ~ p_au\n",
    "rp = a_au*(1-e)\n",
    "rp"
   ]
  },
  {
   "cell_type": "markdown",
   "id": "7ff66f46",
   "metadata": {},
   "source": [
    " <center><img src=\"./img/A_2017 U1 - Oumuamua - Trajectory 2018-03-20 _ orbital elements 6.png\" </center>"
   ]
  },
  {
   "cell_type": "code",
   "execution_count": 152,
   "id": "caf855e7",
   "metadata": {},
   "outputs": [],
   "source": [
    "# physical constants\n",
    "\n",
    "g = 9.81      # m/s2\n",
    "G = 6.674e-11        # m3/kg/s2\n",
    "\n",
    "m_Sun = 1.9885e30    # kg\n",
    "m_Earth = 5.97217e24 # kg\n",
    "\n",
    "mu_Sun = G * m_Sun          # m3/s2\n",
    "mu_Earth = G * m_Earth      # m3/s2\n",
    "\n",
    "M = m_Sun\n",
    "m1 = m_Earth\n",
    "\n",
    "Mu = mu_Sun\n",
    "mu1 = mu_Earth\n",
    "\n",
    "au = 149_597_870.7  # 1 AU in km  - https://cneos.jpl.nasa.gov/glossary/au.html\n"
   ]
  },
  {
   "cell_type": "code",
   "execution_count": 153,
   "id": "7be8ef7c",
   "metadata": {},
   "outputs": [],
   "source": [
    "from datetime import datetime, timedelta\n",
    "\n",
    "class HypTra:\n",
    "    def __init__(self, date0, r0, v_inf=26.33):\n",
    "        self.date0 = datetime.strptime(date0, \"%Y-%m-%d\")\n",
    "        self.r0 = r0                # km\n",
    "        self.v_inf = v_inf          # km/s\n",
    "        self.date = self.date0\n",
    "        self.r = r0\n",
    "\n",
    "        \n",
    "    def step1day(self):\n",
    "        self.date += timedelta(days=1)\n",
    "        self.v_esc = (2 * Mu / (self.r * 1000))**0.5 / 1000   # km/s\n",
    "        self.v = (self.v_inf**2 + self.v_esc**2)**0.5     # km/s\n",
    "        self.dr = self.v * 24 * 3600                      # km\n",
    "        self.r += self.dr\n",
    "        "
   ]
  },
  {
   "cell_type": "markdown",
   "id": "6351b5c5",
   "metadata": {},
   "source": [
    "## 2.1.a First Iteration"
   ]
  },
  {
   "cell_type": "code",
   "execution_count": 212,
   "id": "79dac52d",
   "metadata": {
    "scrolled": true
   },
   "outputs": [
    {
     "name": "stdout",
     "output_type": "stream",
     "text": [
      "\n",
      "      Mission start: 2023-12-31\n",
      "      Mission duration: 34.1 years\n",
      "      The date of the encounter: 2058-02-04\n",
      "      The distance of the encounter: 230.5 AU\n",
      "\n"
     ]
    }
   ],
   "source": [
    "ou = HypTra('2023-01-01', 3_084_966_115 * 1.609, v_inf = 26.33)  # ou -> oumuamua\n",
    "sc = HypTra('2023-12-31', au, v_inf = 31.33)                     # sc -> spacecraft\n",
    "\n",
    "\n",
    "# until launch only oumuamua is progressing in the space\n",
    "while ou.date != sc.date:\n",
    "    ou.step1day()\n",
    "\n",
    "# after launch both ou and sc are progressing in space until sc reaces ou\n",
    "while sc.r < ou.r:\n",
    "    ou.step1day()\n",
    "    sc.step1day()\n",
    "\n",
    "print(f'''\n",
    "      Mission start: {sc.date0.date()}\n",
    "      Mission duration: {(sc.date-sc.date0).days/365:.1f} years\n",
    "      The date of the encounter: {sc.date.date()}\n",
    "      The distance of the encounter: {sc.r/au:.1f} AU\\n''')\n"
   ]
  },
  {
   "cell_type": "markdown",
   "id": "bf2d7b41",
   "metadata": {},
   "source": [
    "## 2.1.b Second Iteration - Excess Velocity 10 km/s"
   ]
  },
  {
   "cell_type": "code",
   "execution_count": 155,
   "id": "0411ebbc",
   "metadata": {
    "scrolled": true
   },
   "outputs": [
    {
     "name": "stdout",
     "output_type": "stream",
     "text": [
      "\n",
      "      Mission start: 2023-12-31\n",
      "      Mission duration: 17.4 years\n",
      "      The date of the encounter: 2041-05-11\n",
      "      The distance of the encounter: 136.9 AU\n",
      "\n"
     ]
    }
   ],
   "source": [
    "ou = HypTra('2023-01-01', 3_084_966_115 * 1.609, v_inf = 26.33)\n",
    "sc = HypTra('2023-12-31', au, v_inf = 36.33)\n",
    "\n",
    "# until launch only oumuamua is progressing in the space\n",
    "while ou.date != sc.date:\n",
    "    ou.step1day()\n",
    "\n",
    "# after launch both ou and sc are progressing in space until sc reaces ou\n",
    "while sc.r < ou.r:\n",
    "    ou.step1day()\n",
    "    sc.step1day()\n",
    "\n",
    "print(f'''\n",
    "      Mission start: {sc.date0.date()}\n",
    "      Mission duration: {(sc.date-sc.date0).days/365:.1f} years\n",
    "      The date of the encounter: {sc.date.date()}\n",
    "      The distance of the encounter: {sc.r/au:.1f} AU\\n''')\n"
   ]
  },
  {
   "cell_type": "markdown",
   "id": "fa917a70",
   "metadata": {},
   "source": [
    "## 2.2 SC Leaving the Solar System"
   ]
  },
  {
   "cell_type": "code",
   "execution_count": 156,
   "id": "791b4945",
   "metadata": {},
   "outputs": [
    {
     "data": {
      "text/plain": [
       "5.210233353922913"
      ]
     },
     "execution_count": 156,
     "metadata": {},
     "output_type": "execute_result"
    }
   ],
   "source": [
    "# excess velocity = 5 km/s\n",
    "\n",
    "Isp = 330\n",
    "mi = 2000\n",
    "mf = 400\n",
    "delta_v = Isp*g * ln(mi/mf)\n",
    "delta_v /= 1000  # km/s\n",
    "delta_v"
   ]
  },
  {
   "cell_type": "code",
   "execution_count": 157,
   "id": "97e05446",
   "metadata": {},
   "outputs": [
    {
     "data": {
      "text/plain": [
       "5.210233353922913"
      ]
     },
     "execution_count": 157,
     "metadata": {},
     "output_type": "execute_result"
    }
   ],
   "source": [
    "# first stage when excess velocity = 10 km/s\n",
    "\n",
    "# mf1 = 2700 kg includes the mi=2000 kg spacecraft from previous step\n",
    "\n",
    "Isp = 330\n",
    "mi1 = 13000\n",
    "mf1 = 2700\n",
    "delta_v1 = Isp*g * ln(mi/mf)\n",
    "delta_v1 /= 1000  # km/s\n",
    "delta_v1"
   ]
  },
  {
   "cell_type": "markdown",
   "id": "196f7d0c",
   "metadata": {},
   "source": [
    "## 2.3 Velocity when Leaving Earth SOI"
   ]
  },
  {
   "cell_type": "code",
   "execution_count": 158,
   "id": "f25d97be",
   "metadata": {},
   "outputs": [
    {
     "name": "stdout",
     "output_type": "stream",
     "text": [
      "va=52.50 km/s\n"
     ]
    }
   ],
   "source": [
    "# calculating va at 1 AU distance when v_inf has +5 km/s more than oumuamua\n",
    "sc = HypTra('2023-12-31', au, v_inf = 31.33)\n",
    "sc.step1day()\n",
    "va = sc.v\n",
    "print(f'va={va:.2f} km/s')"
   ]
  },
  {
   "cell_type": "code",
   "execution_count": 159,
   "id": "c1faf3c3",
   "metadata": {},
   "outputs": [
    {
     "name": "stdout",
     "output_type": "stream",
     "text": [
      "vb=55.62 km/s\n"
     ]
    }
   ],
   "source": [
    "# calculating va at 1 AU distance when v_inf has +10 km/s more than oumuamua\n",
    "\n",
    "sc = HypTra('2023-12-31', au, v_inf = 36.33)\n",
    "sc.step1day()\n",
    "vb = sc.v\n",
    "print(f'vb={vb:.2f} km/s')"
   ]
  },
  {
   "cell_type": "markdown",
   "id": "e2d302cc",
   "metadata": {},
   "source": [
    "## 2.4 Projection of the Velocity when leaving Earth SOI"
   ]
  },
  {
   "cell_type": "markdown",
   "id": "cdf43540",
   "metadata": {},
   "source": [
    " <center><img src=\"./img/A_2017 U1 - Oumuamua - Trajectory 2018-03-20 _ theta 8.png\" </center>"
   ]
  },
  {
   "cell_type": "code",
   "execution_count": 160,
   "id": "69f47b93",
   "metadata": {},
   "outputs": [
    {
     "data": {
      "text/plain": [
       "146.36151542066645"
      ]
     },
     "execution_count": 160,
     "metadata": {},
     "output_type": "execute_result"
    }
   ],
   "source": [
    "# theta_inf of the assimptote\n",
    "\n",
    "theta_inf = acos(-1/e)\n",
    "theta_inf = theta_inf * 180 / pi  # degrees\n",
    "theta_inf"
   ]
  },
  {
   "cell_type": "code",
   "execution_count": 161,
   "id": "90a53876",
   "metadata": {},
   "outputs": [
    {
     "data": {
      "text/plain": [
       "28.172515420666457"
      ]
     },
     "execution_count": 161,
     "metadata": {},
     "output_type": "execute_result"
    }
   ],
   "source": [
    "alpha = 180-((180-theta_inf)+(360-omega))\n",
    "alpha"
   ]
  },
  {
   "cell_type": "code",
   "execution_count": 162,
   "id": "d53d7d68",
   "metadata": {},
   "outputs": [],
   "source": [
    "alpha1 = alpha - 3.5   # alpha is only an approximation of alpha1"
   ]
  },
  {
   "cell_type": "code",
   "execution_count": 163,
   "id": "e7e3024a",
   "metadata": {},
   "outputs": [
    {
     "data": {
      "text/plain": [
       "(47.703521798780415, 11.851400446504602, 18.43213548903738, 49.15365382705672)"
      ]
     },
     "execution_count": 163,
     "metadata": {},
     "output_type": "execute_result"
    }
   ],
   "source": [
    "# calculating Vxy - velocity component in the ecliptic plane - for slower mission (+5 km/s)\n",
    "v = va\n",
    "v_x = v * cos(alpha1*pi/180)\n",
    "v_yz = v * sin(alpha1*pi/180)\n",
    "v_y = v_yz * cos((180-i)*pi/180)\n",
    "v_z = v_yz * sin((180-i)*pi/180)\n",
    "v_xy = (v_x**2 + v_y**2)**0.5\n",
    "v_x, v_y, v_z, v_xy    # km/s"
   ]
  },
  {
   "cell_type": "markdown",
   "id": "733ed762",
   "metadata": {},
   "source": [
    " <center><img src=\"./img/A_2017 U1 - Oumuamua - Trajectory 2023-06-23 _ mission 4.png\" </center>"
   ]
  },
  {
   "cell_type": "code",
   "execution_count": 164,
   "id": "9fdcd507",
   "metadata": {},
   "outputs": [
    {
     "data": {
      "text/plain": [
       "26.741018703423784"
      ]
     },
     "execution_count": 164,
     "metadata": {},
     "output_type": "execute_result"
    }
   ],
   "source": [
    "# calculating Va_SOI - the speed needed when leaving Earth SOI\n",
    "\n",
    "v_E = 29.78 # km/s  - Earth's average orbiting speed\n",
    "va_SOI = ((v_xy - v_E)**2 + v_z**2)**0.5\n",
    "va_SOI  # km/s"
   ]
  },
  {
   "cell_type": "code",
   "execution_count": 165,
   "id": "84b24468",
   "metadata": {},
   "outputs": [
    {
     "data": {
      "text/plain": [
       "(50.546786403369886, 12.557777379144905, 19.530742812916706, 52.08335039541967)"
      ]
     },
     "execution_count": 165,
     "metadata": {},
     "output_type": "execute_result"
    }
   ],
   "source": [
    "# calculating Vxy - velocity component in the ecliptic plane - for slower mission (+5 km/s)\n",
    "\n",
    "v = vb\n",
    "v_x = v * cos(alpha1*pi/180)\n",
    "v_yz = v * sin(alpha1*pi/180)\n",
    "v_y = v_yz * cos((180-i)*pi/180)\n",
    "v_z = v_yz * sin((180-i)*pi/180)\n",
    "v_xy = (v_x**2 + v_y**2)**0.5\n",
    "v_x, v_y, v_z, v_xy"
   ]
  },
  {
   "cell_type": "code",
   "execution_count": 166,
   "id": "11934a69",
   "metadata": {},
   "outputs": [
    {
     "data": {
      "text/plain": [
       "29.64606809823462"
      ]
     },
     "execution_count": 166,
     "metadata": {},
     "output_type": "execute_result"
    }
   ],
   "source": [
    "# calculating Va_SOI - the speed needed when leaving Earth SOI\n",
    "\n",
    "v_E = 29.78 # km/s  - average orbiting speed\n",
    "vb_SOI = ((v_xy - v_E)**2 + v_z**2)**0.5\n",
    "vb_SOI  # km/s"
   ]
  },
  {
   "cell_type": "markdown",
   "id": "833b0d4e",
   "metadata": {},
   "source": [
    "## 2.5 Delta-V Needed at LEO"
   ]
  },
  {
   "cell_type": "code",
   "execution_count": 169,
   "id": "395351b9",
   "metadata": {},
   "outputs": [
    {
     "name": "stdout",
     "output_type": "stream",
     "text": [
      "va_p: 28.829113413695428\n",
      "delta_va_LEO: 21.2 km/s\n"
     ]
    }
   ],
   "source": [
    "# calculating va_p - the periapsis speed needed at LEO to leave Earth SOI with previously calculated va_SOI speed\n",
    "\n",
    "r1 = (6370+500)*1000\n",
    "va_p = (2*mu1/r1 + (va_SOI*1000)**2)**0.5\n",
    "print('va_p:', va_p/1000)\n",
    "delta_va_LEO = va_p - (mu1/r1)**0.5\n",
    "print(f'delta_va_LEO: {delta_va_LEO/1000:.1f} km/s')"
   ]
  },
  {
   "cell_type": "code",
   "execution_count": 170,
   "id": "41ff7244",
   "metadata": {},
   "outputs": [
    {
     "name": "stdout",
     "output_type": "stream",
     "text": [
      "vb_p: 31.542432572774363\n",
      "delta_vb_LEO: 23.9 km/s\n"
     ]
    }
   ],
   "source": [
    "# calculating vb_p - the periapsis speed needed at LEO to leave Earth SOI with previously calculated vb_SOI speed\n",
    "\n",
    "r1 = (6370+500)*1000\n",
    "vb_p = (2*mu1/r1 + (vb_SOI*1000)**2)**0.5\n",
    "print('vb_p:', vb_p/1000)\n",
    "delta_vb_LEO = vb_p - (mu1/r1)**0.5\n",
    "print(f'delta_vb_LEO: {delta_vb_LEO/1000:.1f} km/s')"
   ]
  },
  {
   "cell_type": "code",
   "execution_count": 52,
   "id": "af4424cc",
   "metadata": {},
   "outputs": [
    {
     "data": {
      "text/plain": [
       "(2.9050493948108347, 2.7133191590789356)"
      ]
     },
     "execution_count": 52,
     "metadata": {},
     "output_type": "execute_result"
    }
   ],
   "source": [
    "# difference between the slow and quick missions delta-v\n",
    "vb_SOI - va_SOI, (delta_vb_LEO - delta_va_LEO)/1000      # km/s"
   ]
  },
  {
   "cell_type": "markdown",
   "id": "a33ba9e0",
   "metadata": {},
   "source": [
    "## 2.6 Mission Feasibility without Flyby"
   ]
  },
  {
   "cell_type": "code",
   "execution_count": 53,
   "id": "4d5046ee",
   "metadata": {},
   "outputs": [
    {
     "data": {
      "text/plain": [
       "21.212168523424364"
      ]
     },
     "execution_count": 53,
     "metadata": {},
     "output_type": "execute_result"
    }
   ],
   "source": [
    "# converting to km/s\n",
    "delta_va_LEO /= 1000   # km/s\n",
    "delta_va_LEO"
   ]
  },
  {
   "cell_type": "code",
   "execution_count": 54,
   "id": "3c9f1b6f",
   "metadata": {},
   "outputs": [
    {
     "data": {
      "text/plain": [
       "-1.5568152320870503"
      ]
     },
     "execution_count": 54,
     "metadata": {},
     "output_type": "execute_result"
    }
   ],
   "source": [
    "# delta_V Starship with 10 t payload\n",
    "# delta_v1 and delta_v our spacecraft 1st and 2nd stage\n",
    "delta_v_budget = delta_v_Starship_10t + delta_v1 + delta_v - delta_va_LEO   # km/s\n",
    "delta_v_budget   # km/s"
   ]
  },
  {
   "cell_type": "markdown",
   "id": "d40d478d",
   "metadata": {},
   "source": [
    "## 2.7 Mission Feasibility with Flyby"
   ]
  },
  {
   "cell_type": "markdown",
   "id": "0a498312",
   "metadata": {},
   "source": [
    " <center><img src=\"./img/saturn_flyby.png\" ></center>"
   ]
  },
  {
   "cell_type": "markdown",
   "id": "375c9c45",
   "metadata": {},
   "source": [
    "Earth - Jupiter - Saturn on 2024-06-30"
   ]
  },
  {
   "cell_type": "code",
   "execution_count": 208,
   "id": "409bd5e7",
   "metadata": {},
   "outputs": [
    {
     "data": {
      "text/plain": [
       "16.83488658349149"
      ]
     },
     "execution_count": 208,
     "metadata": {},
     "output_type": "execute_result"
    }
   ],
   "source": [
    "v_LEO + delta_v_Starship_10t"
   ]
  },
  {
   "cell_type": "code",
   "execution_count": 186,
   "id": "2acef315",
   "metadata": {},
   "outputs": [
    {
     "data": {
      "text/plain": [
       "12.937453665855918"
      ]
     },
     "execution_count": 186,
     "metadata": {},
     "output_type": "execute_result"
    }
   ],
   "source": [
    "# we are on LEO, v_LEO = 7.6 km/s\n",
    "# Starship is doing orbit insertion + 9.2 km/s\n",
    "# calculating speed when leaving Earth SOI\n",
    "# v_inf = v_SOI = (v_LEO + delta_v_Starship_10t)**2 - v_esc**2\n",
    "v_esc = (2*mu_Earth / r1)**0.5 / 1000\n",
    "v_SOI = ((v_LEO + delta_v_Starship_10t)**2 - v_esc**2)**0.5\n",
    "\n",
    "\n",
    "v_SOI  # km/s velocity when leaving Earth's SOI"
   ]
  },
  {
   "cell_type": "code",
   "execution_count": 189,
   "id": "1275c256",
   "metadata": {},
   "outputs": [
    {
     "data": {
      "text/plain": [
       "42.93745366585592"
      ]
     },
     "execution_count": 189,
     "metadata": {},
     "output_type": "execute_result"
    }
   ],
   "source": [
    "v_Earth = 30 # km/s\n",
    "v = v_SOI + v_Earth\n",
    "v  # km/s velocity of spacecraft in Sun's coordinate of reference "
   ]
  },
  {
   "cell_type": "code",
   "execution_count": 201,
   "id": "8823fe8d",
   "metadata": {},
   "outputs": [
    {
     "data": {
      "text/plain": [
       "8.328776865252447"
      ]
     },
     "execution_count": 201,
     "metadata": {},
     "output_type": "execute_result"
    }
   ],
   "source": [
    "v_inf = (v**2*1e6 - 2*mu_Sun/(au*1e3))**0.5\n",
    "v_inf = v_inf / 1000 \n",
    "v_inf  # km/s  the spacecraft velocity in infinity"
   ]
  },
  {
   "cell_type": "code",
   "execution_count": 209,
   "id": "5d3a5f0e",
   "metadata": {
    "scrolled": true
   },
   "outputs": [
    {
     "name": "stdout",
     "output_type": "stream",
     "text": [
      "\n",
      "      Launch: 2024-06-30\n",
      "      Time to reach Saturn: 2.1 years\n",
      "      The date when reaching Saturn: 2026-07-25\n",
      "      The speed of the sc when reaching Saturn: 15.7 km/s\n"
     ]
    }
   ],
   "source": [
    "sc = HypTra('2024-06-30', au, v_inf = v_inf)                     # sc -> spacecraft\n",
    "\n",
    "# Saturn orbit radius ~10 AU\n",
    "# checking time needed to reach Saturn orbit\n",
    "\n",
    "while sc.r < 10*au:\n",
    "    sc.step1day()\n",
    "\n",
    "print(f'''\n",
    "      Launch: {sc.date0.date()}\n",
    "      Time to reach Saturn: {(sc.date-sc.date0).days/365:.1f} years\n",
    "      The date when reaching Saturn: {sc.date.date()}\n",
    "      The speed of the sc when reaching Saturn: {round(sc.v,1)} km/s''')\n"
   ]
  },
  {
   "cell_type": "markdown",
   "id": "b59c2d53",
   "metadata": {},
   "source": [
    "## 2.8 Finding Oumuamua"
   ]
  },
  {
   "cell_type": "code",
   "execution_count": 215,
   "id": "fbd287c8",
   "metadata": {},
   "outputs": [
    {
     "data": {
      "text/plain": [
       "(2.5545153684527655, 2.554465317920022)"
      ]
     },
     "execution_count": 215,
     "metadata": {},
     "output_type": "execute_result"
    }
   ],
   "source": [
    "# eccentricity\n",
    "e1 = 1.20111\n",
    "e2 = 1.20115\n",
    "\n",
    "# true anomaly at infinity\n",
    "eta1 = acos(-1/e1)\n",
    "eta2 = acos(-1/e2)\n",
    "\n",
    "eta1, eta2"
   ]
  },
  {
   "cell_type": "code",
   "execution_count": 214,
   "id": "9a1d83ca",
   "metadata": {},
   "outputs": [
    {
     "data": {
      "text/plain": [
       "5.005053274365068e-05"
      ]
     },
     "execution_count": 214,
     "metadata": {},
     "output_type": "execute_result"
    }
   ],
   "source": [
    "d_eta = eta1 - eta2\n",
    "d_eta"
   ]
  },
  {
   "cell_type": "code",
   "execution_count": 216,
   "id": "5c198a47",
   "metadata": {
    "scrolled": true
   },
   "outputs": [
    {
     "name": "stdout",
     "output_type": "stream",
     "text": [
      "\n",
      "      Mission start: 2024-06-30\n",
      "      Mission duration: 36.8 years\n",
      "      The date of the encounter: 2061-03-30\n",
      "      The distance of the encounter: 248.1 AU\n",
      "\n"
     ]
    }
   ],
   "source": [
    "ou = HypTra('2023-01-01', 3_084_966_115 * 1.609, v_inf = 26.33)  # ou -> oumuamua\n",
    "sc = HypTra('2024-06-30', au, v_inf = 31.33)                     # sc -> spacecraft\n",
    "\n",
    "\n",
    "# until launch only oumuamua is progressing in the space\n",
    "while ou.date != sc.date:\n",
    "    ou.step1day()\n",
    "\n",
    "# after launch both ou and sc are progressing in space until sc reaces ou\n",
    "while sc.r < ou.r:\n",
    "    ou.step1day()\n",
    "    sc.step1day()\n",
    "\n",
    "print(f'''\n",
    "      Mission start: {sc.date0.date()}\n",
    "      Mission duration: {(sc.date-sc.date0).days/365:.1f} years\n",
    "      The date of the encounter: {sc.date.date()}\n",
    "      The distance of the encounter: {sc.r/au:.1f} AU\\n''')\n"
   ]
  },
  {
   "cell_type": "code",
   "execution_count": 218,
   "id": "58e6fb7d",
   "metadata": {},
   "outputs": [
    {
     "data": {
      "text/plain": [
       "1857668.929509584"
      ]
     },
     "execution_count": 218,
     "metadata": {},
     "output_type": "execute_result"
    }
   ],
   "source": [
    "D_perp = sc.r * d_eta\n",
    "D_perp                  # km - the diameter of a circle perpendicular to spacecraft speed where Oumuamua can be hiding"
   ]
  },
  {
   "cell_type": "code",
   "execution_count": 229,
   "id": "10542c07",
   "metadata": {},
   "outputs": [],
   "source": [
    "R_perp = D_perp / 2\n",
    "r_cam = 10_000            # camera can take photo to a distance of 10,000 km (a generous educated guess)\n",
    "p = (r_cam/R_perp)**2     # probability of getting in camera radius distance to Oumuamua"
   ]
  },
  {
   "cell_type": "code",
   "execution_count": 230,
   "id": "b419404d",
   "metadata": {},
   "outputs": [
    {
     "data": {
      "text/plain": [
       "8627.33462916321"
      ]
     },
     "execution_count": 230,
     "metadata": {},
     "output_type": "execute_result"
    }
   ],
   "source": [
    "1/p                   # chances of getting close enough to get a photo is one out of 8627"
   ]
  },
  {
   "cell_type": "code",
   "execution_count": 231,
   "id": "0b3e4414",
   "metadata": {},
   "outputs": [
    {
     "data": {
      "text/plain": [
       "61555.718027085604"
      ]
     },
     "execution_count": 231,
     "metadata": {},
     "output_type": "execute_result"
    }
   ],
   "source": [
    "(sc.r/au)**2        # light this many times fainter than on Earth"
   ]
  },
  {
   "cell_type": "markdown",
   "id": "05c6dc9a",
   "metadata": {},
   "source": [
    "Hein, A. M., Perakis, N., Eubanks, T. M., Hibberd, A., Crowl, A., Hayward, K., ... & Osborne, R. (2019). Project Lyra: Sending a spacecraft to 1I/’Oumuamua (former A/2017 U1), the interstellar asteroid. Acta Astronautica, 161, 552-561."
   ]
  },
  {
   "cell_type": "markdown",
   "id": "f364ba05",
   "metadata": {},
   "source": [
    "https://spacein3d.com/asteroid-oumuamua-live-tracker/"
   ]
  },
  {
   "cell_type": "markdown",
   "id": "f8786010",
   "metadata": {},
   "source": [
    "https://ntrs.nasa.gov/citations/19810001583\n"
   ]
  },
  {
   "cell_type": "markdown",
   "id": "e6a66655",
   "metadata": {},
   "source": [
    "https://en.wikipedia.org/wiki/Hyperbolic_trajectory\n"
   ]
  },
  {
   "cell_type": "markdown",
   "id": "2df8ec12",
   "metadata": {},
   "source": [
    "https://www.youtube.com/watch?v=HjIarTx5itY"
   ]
  },
  {
   "cell_type": "code",
   "execution_count": null,
   "id": "e3b94f06",
   "metadata": {},
   "outputs": [],
   "source": []
  }
 ],
 "metadata": {
  "hide_input": false,
  "kernelspec": {
   "display_name": "Python 3 (ipykernel)",
   "language": "python",
   "name": "python3"
  },
  "language_info": {
   "codemirror_mode": {
    "name": "ipython",
    "version": 3
   },
   "file_extension": ".py",
   "mimetype": "text/x-python",
   "name": "python",
   "nbconvert_exporter": "python",
   "pygments_lexer": "ipython3",
   "version": "3.9.13"
  }
 },
 "nbformat": 4,
 "nbformat_minor": 5
}
